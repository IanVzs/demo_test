{
 "cells": [
  {
   "cell_type": "code",
   "execution_count": 3,
   "metadata": {},
   "outputs": [],
   "source": [
    "import pandas as pd"
   ]
  },
  {
   "cell_type": "markdown",
   "metadata": {},
   "source": [
    "## 在统计报表中补全日期(DataFrame)\n",
    "格式形如:\n",
    "\n",
    "日期|数据1|数据2|...\n",
    ":---:|:----:|:----:|:---\n",
    "2020-01-01|😄|😂|...\n",
    "2020-01-02|😄|😂|...\n"
   ]
  },
  {
   "cell_type": "code",
   "execution_count": 16,
   "metadata": {},
   "outputs": [
    {
     "name": "stdout",
     "output_type": "stream",
     "text": [
      "{'a': {'2020-01-01': 2}, 'b': {'2020-01-01': 2, '2020-01-02': 3}, 'c': {'2020-01-01': 2, '2020-01-05': 3}} \n",
      "               a    b    c\n",
      "2020-01-01  2.0  2.0  2.0\n",
      "2020-01-02  NaN  3.0  NaN\n",
      "2020-01-05  NaN  NaN  3.0\n"
     ]
    }
   ],
   "source": [
    "aaa = {\"a\": {\"2020-01-01\": 2}, \"b\": {\"2020-01-01\": 2, \"2020-01-02\": 3}, \"c\": {\"2020-01-01\": 2, \"2020-01-05\": 3}}\n",
    "aa = pd.DataFrame(aaa)\n",
    "print(aaa, \"\\n\", aa)"
   ]
  },
  {
   "cell_type": "markdown",
   "metadata": {},
   "source": [
    "### 查看index 和 columns"
   ]
  },
  {
   "cell_type": "code",
   "execution_count": 17,
   "metadata": {},
   "outputs": [
    {
     "name": "stdout",
     "output_type": "stream",
     "text": [
      "{'_is_copy': None, '_data': BlockManager\n",
      "Items: Index(['a', 'b', 'c'], dtype='object')\n",
      "Axis 1: Index(['2020-01-01', '2020-01-02', '2020-01-05'], dtype='object')\n",
      "FloatBlock: slice(0, 3, 1), 3 x 3, dtype: float64, '_item_cache': {}, '_attrs': {}}\n",
      "              a    b    c\n",
      "2020-01-01  2.0  2.0  2.0\n",
      "2020-01-02  0.0  3.0  0.0\n",
      "2020-01-05  0.0  0.0  3.0\n",
      "['2020-01-01', '2020-01-02', '2020-01-05']\n"
     ]
    }
   ],
   "source": [
    "bb = aa.fillna(0)\n",
    "print(bb.__dict__)\n",
    "print(bb)\n",
    "_index = [i for i in bb.index]\n",
    "_cols = [i for i in bb.columns]\n",
    "print(_index)"
   ]
  },
  {
   "cell_type": "markdown",
   "metadata": {},
   "source": [
    "### 遍历index查找空缺日期.\n",
    "可根据`index list`排序后, 相邻两日差大于一天的都应该补\n",
    "\n",
    "<font color=green>需要注意每个 `a = a or b` 中 循环遍历`a`的重置初始值位置.</font>"
   ]
  },
  {
   "cell_type": "code",
   "execution_count": 18,
   "metadata": {},
   "outputs": [
    {
     "name": "stdout",
     "output_type": "stream",
     "text": [
      "[datetime.datetime(2020, 1, 3, 0, 0), datetime.datetime(2020, 1, 4, 0, 0)]\n"
     ]
    }
   ],
   "source": [
    "import datetime\n",
    "_last_date = ''\n",
    "for _date in _index:\n",
    "    _date = datetime.datetime.strptime(_date, \"%Y-%m-%d\")\n",
    "    _last_date = _last_date or _date\n",
    "    time_delta = (_date - _last_date).days\n",
    "    list_need_add_day = []\n",
    "    need_add_day = ''\n",
    "    if time_delta > 1:\n",
    "        for i in range(time_delta-1):\n",
    "            need_add_day = need_add_day or _last_date\n",
    "            need_add_day = need_add_day + datetime.timedelta(1)\n",
    "            list_need_add_day.append(need_add_day)\n",
    "    _last_date = _date\n",
    "print(list_need_add_day)"
   ]
  },
  {
   "cell_type": "markdown",
   "metadata": {},
   "source": [
    "### 向主DataFrame中并入缺少日期 \n",
    "#### _col随便插入一个. 后续NaN补零"
   ]
  },
  {
   "cell_type": "code",
   "execution_count": 24,
   "metadata": {},
   "outputs": [
    {
     "name": "stdout",
     "output_type": "stream",
     "text": [
      "              a    b    c\n",
      "2020-01-01  2.0  2.0  2.0\n",
      "2020-01-02  0.0  3.0  0.0\n",
      "2020-01-03  0.0  0.0  0.0\n",
      "2020-01-03  0.0  0.0  0.0\n",
      "2020-01-03  0.0  0.0  0.0\n",
      "2020-01-03  0.0  0.0  0.0\n",
      "2020-01-03  0.0  0.0  0.0\n",
      "2020-01-03  0.0  0.0  0.0\n",
      "2020-01-04  0.0  0.0  0.0\n",
      "2020-01-04  0.0  0.0  0.0\n",
      "2020-01-04  0.0  0.0  0.0\n",
      "2020-01-04  0.0  0.0  0.0\n",
      "2020-01-04  0.0  0.0  0.0\n",
      "2020-01-04  0.0  0.0  0.0\n",
      "2020-01-05  0.0  0.0  3.0\n"
     ]
    }
   ],
   "source": [
    "for i in list_need_add_day:\n",
    "    i = i.strftime(\"%Y-%m-%d\")\n",
    "    aa = aa.append(pd.DataFrame({_cols[-1]: {i: 0}}))\n",
    "    # print(aa)\n",
    "bb = aa.fillna(0)\n",
    "bb = bb.sort_index()\n",
    "print(bb)"
   ]
  }
 ],
 "metadata": {
  "kernelspec": {
   "display_name": "Python 3",
   "language": "python",
   "name": "python3"
  },
  "language_info": {
   "codemirror_mode": {
    "name": "ipython",
    "version": 3
   },
   "file_extension": ".py",
   "mimetype": "text/x-python",
   "name": "python",
   "nbconvert_exporter": "python",
   "pygments_lexer": "ipython3",
   "version": "3.7.5"
  }
 },
 "nbformat": 4,
 "nbformat_minor": 2
}
