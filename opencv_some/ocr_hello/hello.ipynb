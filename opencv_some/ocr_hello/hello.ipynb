{
 "cells": [
  {
   "cell_type": "code",
   "execution_count": 3,
   "metadata": {},
   "outputs": [
    {
     "name": "stdout",
     "output_type": "stream",
     "text": [
      "hello\n"
     ]
    }
   ],
   "source": [
    "\"\"\"\n",
    "ocr Hello World.\n",
    "\n",
    "英文字母识别\n",
    "\"\"\"\n",
    "print(\"hello\")"
   ]
  },
  {
   "cell_type": "code",
   "execution_count": 4,
   "metadata": {},
   "outputs": [],
   "source": [
    "import cv2\n",
    "import numpy as np\n",
    "import matplotlib.pyplot as plt"
   ]
  },
  {
   "cell_type": "code",
   "execution_count": 7,
   "metadata": {},
   "outputs": [
    {
     "data": {
      "text/plain": [
       "array([[19.,  2.,  8., ...,  8.,  0.,  8.],\n",
       "       [ 8.,  5., 12., ...,  8.,  4., 10.],\n",
       "       [ 3.,  4., 11., ...,  7.,  3.,  9.],\n",
       "       ...,\n",
       "       [19.,  6.,  9., ..., 12.,  2.,  4.],\n",
       "       [18.,  2.,  3., ...,  9.,  5.,  8.],\n",
       "       [ 0.,  4.,  9., ...,  7.,  2.,  8.]], dtype=float32)"
      ]
     },
     "execution_count": 7,
     "metadata": {},
     "output_type": "execute_result"
    }
   ],
   "source": [
    "# Load the data, converters convert the letter to a number\n",
    "data= np.loadtxt('letter-recognition.data', dtype= 'float32', delimiter = ',', converters= {0: lambda ch: ord(ch)-ord('A')})\n",
    "data"
   ]
  },
  {
   "cell_type": "code",
   "execution_count": 15,
   "metadata": {},
   "outputs": [],
   "source": [
    "# split the data to two, 10000 each for train and test \n",
    "train, test = np.vsplit(data,2)\n",
    "\n",
    "# split trainData and testData to features and responses\n",
    "responses, trainData = np.hsplit(train,[1])\n",
    "labels, testData = np.hsplit(test,[1])"
   ]
  },
  {
   "cell_type": "code",
   "execution_count": 22,
   "metadata": {},
   "outputs": [
    {
     "name": "stdout",
     "output_type": "stream",
     "text": [
      "[[ 2.  8.  3. ...  8.  0.  8.]\n",
      " [ 5. 12.  3. ...  8.  4. 10.]\n",
      " [ 4. 11.  6. ...  7.  3.  9.]\n",
      " ...\n",
      " [ 5. 11.  7. ...  7.  0.  7.]\n",
      " [ 4.  9.  6. ... 11.  3.  9.]\n",
      " [ 5. 10.  7. ...  8.  4.  8.]]\n"
     ]
    }
   ],
   "source": [
    "# Initiate the kNN, classify, measure accuracy.\n",
    "#knn = cv2.KNearest()\n",
    "knn = cv2.ml.KNearest_create()\n",
    "print(trainData)\n",
    "#knn.train(trainData, responses)\n",
    "knn.train(trainData, cv2.ml.ROW_SAMPLE, responses)\n",
    "ret, result, neighbours, dist = knn.findNearest(testData, k=5)"
   ]
  },
  {
   "cell_type": "code",
   "execution_count": 23,
   "metadata": {},
   "outputs": [
    {
     "name": "stdout",
     "output_type": "stream",
     "text": [
      "93.06\n"
     ]
    }
   ],
   "source": [
    "correct = np.count_nonzero(result == labels)\n",
    "accuracy = correct*100.0/10000\n",
    "print(accuracy)"
   ]
  },
  {
   "cell_type": "code",
   "execution_count": null,
   "metadata": {},
   "outputs": [],
   "source": []
  },
  {
   "cell_type": "code",
   "execution_count": null,
   "metadata": {},
   "outputs": [],
   "source": []
  },
  {
   "cell_type": "code",
   "execution_count": null,
   "metadata": {},
   "outputs": [],
   "source": []
  }
 ],
 "metadata": {
  "kernelspec": {
   "display_name": "Python 3",
   "language": "python",
   "name": "python3"
  },
  "language_info": {
   "codemirror_mode": {
    "name": "ipython",
    "version": 3
   },
   "file_extension": ".py",
   "mimetype": "text/x-python",
   "name": "python",
   "nbconvert_exporter": "python",
   "pygments_lexer": "ipython3",
   "version": "3.7.5"
  }
 },
 "nbformat": 4,
 "nbformat_minor": 2
}
